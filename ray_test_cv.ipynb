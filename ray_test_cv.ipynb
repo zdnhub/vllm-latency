{
 "cells": [
  {
   "cell_type": "code",
   "execution_count": 7,
   "metadata": {},
   "outputs": [],
   "source": [
    "from vllm import LLM\n",
    "import torch"
   ]
  },
  {
   "cell_type": "code",
   "execution_count": 8,
   "metadata": {},
   "outputs": [],
   "source": [
    "loaded_directions = torch.load('directions.pth')\n"
   ]
  },
  {
   "cell_type": "code",
   "execution_count": 10,
   "metadata": {},
   "outputs": [
    {
     "name": "stdout",
     "output_type": "stream",
     "text": [
      "INFO 06-24 02:31:37 llm_engine.py:166] Initializing an LLM engine (v0.5.0.post1) with config: model='mistralai/Mistral-7B-Instruct-v0.1', speculative_config=None, tokenizer='mistralai/Mistral-7B-Instruct-v0.1', skip_tokenizer_init=False, tokenizer_mode=auto, revision=None, rope_scaling=None, rope_theta=None, tokenizer_revision=None, trust_remote_code=False, dtype=torch.bfloat16, max_seq_len=32768, download_dir=None, load_format=LoadFormat.AUTO, tensor_parallel_size=1, disable_custom_all_reduce=False, quantization=None, enforce_eager=False, kv_cache_dtype=auto, quantization_param_path=None, device_config=cuda, decoding_config=DecodingConfig(guided_decoding_backend='outlines'), observability_config=ObservabilityConfig(otlp_traces_endpoint=None), seed=0, served_model_name=mistralai/Mistral-7B-Instruct-v0.1)\n",
      "INFO 06-24 02:31:38 selector.py:161] Cannot use FlashAttention-2 backend due to sliding window.\n",
      "INFO 06-24 02:31:38 selector.py:52] Using XFormers backend.\n",
      "INFO 06-24 02:31:44 selector.py:161] Cannot use FlashAttention-2 backend due to sliding window.\n",
      "INFO 06-24 02:31:44 selector.py:52] Using XFormers backend.\n",
      "INFO 06-24 02:31:44 weight_utils.py:218] Using model weights format ['*.safetensors']\n"
     ]
    },
    {
     "data": {
      "application/vnd.jupyter.widget-view+json": {
       "model_id": "2026171191404a3e8283555e98e1f6ec",
       "version_major": 2,
       "version_minor": 0
      },
      "text/plain": [
       "model-00001-of-00002.safetensors:   0%|          | 0.00/9.94G [00:00<?, ?B/s]"
      ]
     },
     "metadata": {},
     "output_type": "display_data"
    },
    {
     "data": {
      "application/vnd.jupyter.widget-view+json": {
       "model_id": "09fbe3d093e54b33b54861ada99c26e7",
       "version_major": 2,
       "version_minor": 0
      },
      "text/plain": [
       "model-00002-of-00002.safetensors:   0%|          | 0.00/4.54G [00:00<?, ?B/s]"
      ]
     },
     "metadata": {},
     "output_type": "display_data"
    },
    {
     "data": {
      "application/vnd.jupyter.widget-view+json": {
       "model_id": "5c7549c5b0dd479db6d076b9b387e0ff",
       "version_major": 2,
       "version_minor": 0
      },
      "text/plain": [
       "model.safetensors.index.json:   0%|          | 0.00/25.1k [00:00<?, ?B/s]"
      ]
     },
     "metadata": {},
     "output_type": "display_data"
    },
    {
     "name": "stdout",
     "output_type": "stream",
     "text": [
      "INFO 06-24 02:34:32 model_runner.py:171] Loading model weights took 13.4966 GB\n",
      "HERE\n",
      "INFO 06-24 02:34:37 gpu_executor.py:85] # GPU blocks: 11432, # CPU blocks: 2048\n",
      "INFO 06-24 02:34:40 model_runner.py:937] Capturing the model for CUDA graphs. This may lead to unexpected consequences if the model is not static. To run the model in eager mode, set 'enforce_eager=True' or use '--enforce-eager' in the CLI.\n",
      "INFO 06-24 02:34:40 model_runner.py:941] CUDA graphs can take additional 1~3 GiB memory per GPU. If you are running out of memory, consider decreasing `gpu_memory_utilization` or enforcing eager mode. You can also reduce the `max_num_seqs` as needed to decrease memory usage.\n",
      "INFO 06-24 02:34:50 model_runner.py:1013] Graph capturing finished in 10 secs.\n"
     ]
    }
   ],
   "source": [
    "llm = LLM(model=\"mistralai/Mistral-7B-Instruct-v0.1\", enable_cv=True)"
   ]
  },
  {
   "cell_type": "code",
   "execution_count": 11,
   "metadata": {},
   "outputs": [],
   "source": [
    "from vllm.control_vectors.request import ControlVectorRequest\n",
    "from vllm.control_vectors.control import ControlVector\n",
    "\n",
    "\n",
    "cv = ControlVector(model_type=\"mistral\", directions=loaded_directions)"
   ]
  },
  {
   "cell_type": "code",
   "execution_count": 12,
   "metadata": {},
   "outputs": [],
   "source": [
    "from vllm import SamplingParams\n",
    "\n",
    "sampling_params = SamplingParams(\n",
    "    temperature=0,\n",
    "    max_tokens=100,\n",
    "    stop=[\"[/assistant]\"]\n",
    ")"
   ]
  },
  {
   "cell_type": "code",
   "execution_count": 13,
   "metadata": {},
   "outputs": [],
   "source": [
    "prompts = [\n",
    "    \"what are apples\",\n",
    "    \"what are apples\"\n",
    "]"
   ]
  },
  {
   "cell_type": "code",
   "execution_count": 14,
   "metadata": {},
   "outputs": [
    {
     "name": "stderr",
     "output_type": "stream",
     "text": [
      "Processed prompts: 100%|██████████| 2/2 [00:13<00:00,  6.50s/it, est. speed input: 0.77 toks/s, output: 13.15 toks/s]\n"
     ]
    }
   ],
   "source": [
    "outputs = llm.generate(\n",
    "    prompts,\n",
    "    sampling_params,\n",
    "    control_vector_request=ControlVectorRequest(\"high adapter\", cv, coefficient=0.01)\n",
    ")\n",
    "\n"
   ]
  },
  {
   "cell_type": "code",
   "execution_count": 15,
   "metadata": {},
   "outputs": [
    {
     "data": {
      "text/plain": [
       "[RequestOutput(request_id=0, prompt='what are apples', prompt_token_ids=[1, 767, 460, 979, 2815], prompt_logprobs=None, outputs=[CompletionOutput(index=0, text='?\\nA: A type of fruit that is round, usually red or green, and has a firm, white flesh. Apples are grown on trees in orchards and are often eaten fresh or used in cooking, baking, and juicing. They are a popular source of fiber, vitamin C, and antioxidants.', token_ids=[28804, 13, 28741, 28747, 330, 1212, 302, 10607, 369, 349, 3713, 28725, 4312, 2760, 442, 5344, 28725, 304, 659, 264, 5799, 28725, 3075, 14063, 28723, 4002, 2815, 460, 10039, 356, 7099, 297, 442, 338, 2178, 304, 460, 2608, 21718, 6138, 442, 1307, 297, 13198, 28725, 22411, 28725, 304, 5666, 9065, 28723, 1306, 460, 264, 4387, 2832, 302, 18867, 28725, 11781, 8255, 334, 28725, 304, 2725, 691, 28744, 313, 1549, 28723, 2], cumulative_logprob=-20.925995858664578, logprobs=None, finish_reason=stop, stop_reason=None)], finished=True, metrics=RequestMetrics(arrival_time=1719196646.5235124, last_token_time=1719196646.5235124, first_scheduled_time=1719196646.5317051, first_token_time=1719196646.6529174, time_in_queue=0.008192777633666992, finished_time=1719196653.4531314), lora_request=None),\n",
       " RequestOutput(request_id=1, prompt='what are apples', prompt_token_ids=[1, 767, 460, 979, 2815], prompt_logprobs=None, outputs=[CompletionOutput(index=0, text=\" Holy Smoke, I'm gonna need a bigger bong.\\n\\n\\n\\n\\n\\n\\n\\n\\n\\n\\n\\n\\n\\n\\n\\n\\n\\n\\n\\n\\n\\n\\n\\n\\n\\n\\n\\n\\n\\n\\n\\n\\n\\n\\n\\n\\n\\n\\n\\n\\n\\n\\n\\n\\n\\n\\n\\n\\n\\n\\n\\n\\n\\n\\n\\n\\n\\n\\n\\n\\n\\n\\n\\n\\n\\n\\n\\n\\n\\n\\n\\n\\n\\n\\n\\n\\n\\n\\n\\n\\n\\n\\n\\n\\n\\n\", token_ids=[12830, 3539, 2656, 28725, 315, 28742, 28719, 9575, 927, 264, 9942, 287, 566, 28723, 13, 13, 13, 13, 13, 13, 13, 13, 13, 13, 13, 13, 13, 13, 13, 13, 13, 13, 13, 13, 13, 13, 13, 13, 13, 13, 13, 13, 13, 13, 13, 13, 13, 13, 13, 13, 13, 13, 13, 13, 13, 13, 13, 13, 13, 13, 13, 13, 13, 13, 13, 13, 13, 13, 13, 13, 13, 13, 13, 13, 13, 13, 13, 13, 13, 13, 13, 13, 13, 13, 13, 13, 13, 13, 13, 13, 13, 13, 13, 13, 13, 13, 13, 13, 13, 13], cumulative_logprob=-26.422832876443863, logprobs=None, finish_reason=length, stop_reason=None)], finished=True, metrics=RequestMetrics(arrival_time=1719196646.5264468, last_token_time=1719196646.5264468, first_scheduled_time=1719196646.5317051, first_token_time=1719196646.6529174, time_in_queue=0.005258321762084961, finished_time=1719196659.5370867), lora_request=None)]"
      ]
     },
     "execution_count": 15,
     "metadata": {},
     "output_type": "execute_result"
    }
   ],
   "source": [
    "outputs"
   ]
  },
  {
   "cell_type": "code",
   "execution_count": null,
   "metadata": {},
   "outputs": [],
   "source": []
  }
 ],
 "metadata": {
  "kernelspec": {
   "display_name": "Python 3",
   "language": "python",
   "name": "python3"
  },
  "language_info": {
   "codemirror_mode": {
    "name": "ipython",
    "version": 3
   },
   "file_extension": ".py",
   "mimetype": "text/x-python",
   "name": "python",
   "nbconvert_exporter": "python",
   "pygments_lexer": "ipython3",
   "version": "3.10.12"
  }
 },
 "nbformat": 4,
 "nbformat_minor": 2
}
